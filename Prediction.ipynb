{
 "cells": [
  {
   "cell_type": "code",
   "execution_count": null,
   "metadata": {},
   "outputs": [],
   "source": [
    "import cv2\n",
    "import os\n",
    "import pickle\n",
    "import numpy as np\n",
    "from os import listdir\n",
    "from os.path import isfile, join\n",
    "import time\n",
    "\n",
    "import pandas as pd  \n",
    "data = {'No': [1,2,3,4],\n",
    "        'Name': ['Rin','Colgate','Wheel', 'Santoor',],\n",
    "        \"description\":['no','no','no','no'],\n",
    "        \"price\":[10,20,10,45]\n",
    "       }  \n",
    "bill={\n",
    "}\n",
    "def findProductDetails(index):\n",
    "    list1=data['No']\n",
    "    index=list1.index(index)\n",
    "    key=data['Name'][index]\n",
    "    if data['Name'][index] not in bill:\n",
    "        bill[key]={'name':key,'description':data['description'][index],'price':data['price'][index],'unit':1,'totalPrice':data['price'][index]}\n",
    "    else:\n",
    "        unit=bill[key]['unit']\n",
    "        total_price=bill[key]['totalPrice']\n",
    "        bill[key]={'name':key,'description':data['description'][index],'price':data['price'][index],'unit':unit+1,'totalPrice':total_price+data['price'][index]}\n",
    "    with open('bill.pkl', 'wb') as handle:\n",
    "        pickle.dump(bill, handle, protocol=pickle.HIGHEST_PROTOCOL)\n",
    "\n",
    "def most_frequent(List):\n",
    "    counter = 0\n",
    "    num = List[0]\n",
    "     \n",
    "    for i in List:\n",
    "        curr_frequency = List.count(i)\n",
    "        if(curr_frequency> counter):\n",
    "            counter = curr_frequency\n",
    "            num = i\n",
    "    return num\n",
    "\n",
    "products=[[(100,100,100),(160,255,255)],[(0, 50, 70),(9, 255, 255)]]\n",
    "\n",
    "while True:\n",
    "    path=\"Images/\"\n",
    "    result=[]\n",
    "    images = [f for f in listdir(path) if isfile(join(path, f))]\n",
    "    if images and len(images)>10: \n",
    "        for i in images[0:10]:\n",
    "            list1=[]\n",
    "            img = cv2.imread(path+i)\n",
    "            hsv = cv2.cvtColor(img, cv2.COLOR_BGR2HSV)\n",
    "            h,s,v = cv2.split(hsv)\n",
    "            lower = products[0][0]\n",
    "            upper = products[0][1]\n",
    "            mask = cv2.inRange(hsv, lower, upper)\n",
    "            blue=np.count_nonzero(mask)\n",
    "            list1.append(blue)\n",
    "            \n",
    "            lower = products[1][0]\n",
    "            upper = products[1][1]\n",
    "            mask = cv2.inRange(hsv, lower, upper)\n",
    "            red=np.count_nonzero(mask)\n",
    "            list1.append(red)\n",
    "            \n",
    "            lower =(36, 50, 70)\n",
    "            upper =(89, 255, 255)\n",
    "            mask = cv2.inRange(hsv, lower, upper)\n",
    "            green=np.count_nonzero(mask)\n",
    "            list1.append(green)\n",
    "            \n",
    "            lower =(10, 50, 70)\n",
    "            upper =(24, 255, 255)\n",
    "            mask = cv2.inRange(hsv, lower, upper)\n",
    "            orrange=np.count_nonzero(mask)\n",
    "            list1.append(orrange)\n",
    "            result.append(list1.index(max(list1))+1)\n",
    "            os.remove(path+i)\n",
    "            #if red > blue:\n",
    "                #result.append(1)\n",
    "            #else:\n",
    "                #result.append(2)\n",
    "            \n",
    "        print(result)    \n",
    "        print(\"final\",most_frequent(result))\n",
    "        findProductDetails(int(most_frequent(result)))\n",
    "        time.sleep(10)\n",
    "        images = [f for f in listdir(path) if isfile(join(path, f))]\n",
    "        for i in images:\n",
    "            os.remove(path+i)"
   ]
  },
  {
   "cell_type": "code",
   "execution_count": null,
   "metadata": {},
   "outputs": [],
   "source": [
    "color_dict_HSV = {'black': [[180, 255, 30], [0, 0, 0]],\n",
    "              'white': [[180, 18, 255], [0, 0, 231]],\n",
    "              'red1': [[180, 255, 255], [159, 50, 70]],\n",
    "              'red2': [[9, 255, 255], [0, 50, 70]],\n",
    "              'green': [[89, 255, 255], [36, 50, 70]],\n",
    "              'blue': [[128, 255, 255], [90, 50, 70]],\n",
    "              'yellow': [[35, 255, 255], [25, 50, 70]],\n",
    "              'purple': [[158, 255, 255], [129, 50, 70]],\n",
    "              'orange': [[24, 255, 255], [10, 50, 70]],\n",
    "              'gray': [[180, 18, 230], [0, 0, 40]]}"
   ]
  },
  {
   "cell_type": "code",
   "execution_count": null,
   "metadata": {},
   "outputs": [],
   "source": []
  },
  {
   "cell_type": "code",
   "execution_count": 21,
   "metadata": {},
   "outputs": [
    {
     "name": "stdout",
     "output_type": "stream",
     "text": [
      "3\n"
     ]
    },
    {
     "data": {
      "text/plain": [
       "True"
      ]
     },
     "execution_count": 21,
     "metadata": {},
     "output_type": "execute_result"
    }
   ],
   "source": [
    "import cv2\n",
    "\n",
    "## Read\n",
    "img = cv2.imread(\"rin_test/Images33.png\")\n",
    "\n",
    "## convert to hsv\n",
    "hsv = cv2.cvtColor(img, cv2.COLOR_BGR2HSV)\n",
    "\n",
    "## mask of green (36,0,0) ~ (70, 255,255)\n",
    "mask1 = cv2.inRange(hsv, (90, 50, 70), (128, 255, 255))\n",
    "\n",
    "\n",
    "mask2 = cv2.inRange(hsv, (90, 50, 70), (128, 255, 255))\n",
    "\n",
    "## final mask and masked\n",
    "mask = cv2.bitwise_or(mask1, mask2)\n",
    "target = cv2.bitwise_and(img,img, mask=mask)\n",
    "out_tpl = np.nonzero(target)\n",
    "print(len(out_tpl))\n",
    "cv2.imwrite(\"target.png\", target)"
   ]
  },
  {
   "cell_type": "code",
   "execution_count": 14,
   "metadata": {},
   "outputs": [],
   "source": [
    "color_dict_HSV = {'black': [[180, 255, 30], [0, 0, 0]],\n",
    "              'white': [[180, 18, 255], [0, 0, 231]],\n",
    "              'red1': [[180, 255, 255], [159, 50, 70]],\n",
    "              'red2': [[9, 255, 255], [0, 50, 70]],\n",
    "              'green': [[89, 255, 255], [36, 50, 70]],\n",
    "              'blue': [[128, 255, 255], [90, 50, 70]],\n",
    "              'yellow': [[35, 255, 255], [25, 50, 70]],\n",
    "              'purple': [[158, 255, 255], [129, 50, 70]],\n",
    "              'orange': [[24, 255, 255], [10, 50, 70]],\n",
    "              'gray': [[180, 18, 230], [0, 0, 40]]}"
   ]
  },
  {
   "cell_type": "code",
   "execution_count": 8,
   "metadata": {},
   "outputs": [
    {
     "data": {
      "text/plain": [
       "0.7516418069211455"
      ]
     },
     "execution_count": 8,
     "metadata": {},
     "output_type": "execute_result"
    }
   ],
   "source": [
    "random()"
   ]
  },
  {
   "cell_type": "code",
   "execution_count": 6,
   "metadata": {},
   "outputs": [],
   "source": [
    "list1=[1,2,3]"
   ]
  },
  {
   "cell_type": "code",
   "execution_count": 10,
   "metadata": {},
   "outputs": [
    {
     "data": {
      "text/plain": [
       "3"
      ]
     },
     "execution_count": 10,
     "metadata": {},
     "output_type": "execute_result"
    }
   ],
   "source": [
    "list1.index(max(list1))+1"
   ]
  },
  {
   "cell_type": "code",
   "execution_count": null,
   "metadata": {},
   "outputs": [],
   "source": []
  }
 ],
 "metadata": {
  "kernelspec": {
   "display_name": "Python 3",
   "language": "python",
   "name": "python3"
  },
  "language_info": {
   "codemirror_mode": {
    "name": "ipython",
    "version": 3
   },
   "file_extension": ".py",
   "mimetype": "text/x-python",
   "name": "python",
   "nbconvert_exporter": "python",
   "pygments_lexer": "ipython3",
   "version": "3.6.13"
  }
 },
 "nbformat": 4,
 "nbformat_minor": 4
}

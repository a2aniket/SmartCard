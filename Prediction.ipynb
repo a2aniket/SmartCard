{
 "cells": [
  {
   "cell_type": "code",
   "execution_count": null,
   "metadata": {},
   "outputs": [
    {
     "name": "stdout",
     "output_type": "stream",
     "text": [
      "[1, 1, 1, 1, 1, 1, 1, 1, 1, 1]\n",
      "final 1\n",
      "[1, 1, 1, 1, 1, 1, 1, 1, 1, 1]\n",
      "final 1\n",
      "[1, 2, 2, 2, 2, 2, 2, 2, 2, 2]\n",
      "final 2\n",
      "[1, 1, 1, 1, 1, 1, 1, 1, 1, 1]\n",
      "final 1\n",
      "[2, 1, 1, 1, 1, 1, 2, 2, 1, 1]\n",
      "final 1\n",
      "[1, 1, 1, 1, 1, 1, 1, 1, 1, 1]\n",
      "final 1\n",
      "[2, 2, 2, 2, 2, 2, 2, 2, 2, 2]\n",
      "final 2\n",
      "[2, 2, 2, 2, 2, 2, 2, 2, 2, 2]\n",
      "final 2\n",
      "[2, 2, 2, 2, 2, 2, 2, 2, 2, 2]\n",
      "final 2\n",
      "[2, 2, 2, 2, 2, 2, 2, 2, 2, 2]\n",
      "final 2\n",
      "[2, 2, 2, 2, 2, 1, 1, 1, 1, 1]\n",
      "final 2\n"
     ]
    }
   ],
   "source": [
    "import cv2\n",
    "import os\n",
    "import numpy as np\n",
    "from os import listdir\n",
    "from os.path import isfile, join\n",
    "import time\n",
    "\n",
    "import pandas as pd    \n",
    "data = {'No': [1,2,3],\n",
    "        'Name': ['Colgate', 'Harpic','Rin'],\n",
    "        \"description\":['no','no','no'],\n",
    "        \"price\":[10,10,10]\n",
    "       }    \n",
    "\n",
    "df = pd.DataFrame(data)    \n",
    "df.to_csv(\"data.csv\") \n",
    "\n",
    "########################################################################################################\n",
    "\n",
    "df = pd.read_csv('data.csv')\n",
    "df1 = pd.DataFrame(columns=['no','Name','description','price','unit','total_price'])\n",
    "def findProductDetails(index,df1,df):\n",
    "   index=index-1\n",
    "   if index in df1['no']:\n",
    "    data=df.loc[index]  \n",
    "    data1=df1.loc[index]  \n",
    "    df1.at[index,'total_price']=int(data[4])+int(data1[5])\n",
    "    df1.at[index,'unit']=int(data1[4])+1\n",
    "    return df1\n",
    "   else:\n",
    "    data=df.loc[index]   \n",
    "    temp={\"no\":data[1],\"Name\":data[2],\"description\":data[3],\"price\":data[4],\"unit\":1,\"total_price\":data[4]}\n",
    "    df1=df1.append(temp,ignore_index=True)\n",
    "    return df1\n",
    "\n",
    "def most_frequent(List):\n",
    "    counter = 0\n",
    "    num = List[0]\n",
    "     \n",
    "    for i in List:\n",
    "        curr_frequency = List.count(i)\n",
    "        if(curr_frequency> counter):\n",
    "            counter = curr_frequency\n",
    "            num = i\n",
    "    return num\n",
    "\n",
    "products=[[(100,100,100),(160,255,255)],[(0, 50, 70),(9, 255, 255)]]\n",
    "\n",
    "while True:\n",
    "    path=\"Images/\"\n",
    "    result=[]\n",
    "    images = [f for f in listdir(path) if isfile(join(path, f))]\n",
    "    if images and len(images)>10:\n",
    "        for i in images[0:10]:\n",
    "            img = cv2.imread(path+i)\n",
    "            hsv = cv2.cvtColor(img, cv2.COLOR_BGR2HSV)\n",
    "            h,s,v = cv2.split(hsv)\n",
    "            lower = products[0][0]\n",
    "            upper = products[0][1]\n",
    "            mask = cv2.inRange(hsv, lower, upper)\n",
    "            blue=np.count_nonzero(mask)\n",
    "            lower = products[1][0]\n",
    "            upper = products[1][1]\n",
    "            mask = cv2.inRange(hsv, lower, upper)\n",
    "            red=np.count_nonzero(mask)\n",
    "            os.remove(path+i)\n",
    "            if red > blue:\n",
    "                result.append(1)\n",
    "            else:\n",
    "                result.append(2)\n",
    "        print(result)    \n",
    "        print(\"final\",most_frequent(result))\n",
    "        df1=findProductDetails(int(most_frequent(result)),df1,df)\n",
    "        df1.to_csv(\"bill.csv\")\n",
    "        images = [f for f in listdir(path) if isfile(join(path, f))]\n",
    "        time.sleep(5)\n",
    "        for i in images:\n",
    "            os.remove(path+i)\n",
    "        time.sleep(5)\n",
    "      \n",
    "\n",
    "    "
   ]
  },
  {
   "cell_type": "code",
   "execution_count": null,
   "metadata": {},
   "outputs": [],
   "source": [
    "color_dict_HSV = {'black': [[180, 255, 30], [0, 0, 0]],\n",
    "              'white': [[180, 18, 255], [0, 0, 231]],\n",
    "              'red1': [[180, 255, 255], [159, 50, 70]],\n",
    "              'red2': [[9, 255, 255], [0, 50, 70]],\n",
    "              'green': [[89, 255, 255], [36, 50, 70]],\n",
    "              'blue': [[128, 255, 255], [90, 50, 70]],\n",
    "              'yellow': [[35, 255, 255], [25, 50, 70]],\n",
    "              'purple': [[158, 255, 255], [129, 50, 70]],\n",
    "              'orange': [[24, 255, 255], [10, 50, 70]],\n",
    "              'gray': [[180, 18, 230], [0, 0, 40]]}"
   ]
  },
  {
   "cell_type": "code",
   "execution_count": null,
   "metadata": {},
   "outputs": [],
   "source": [
    "import pandas as pd    \n",
    "data = {'No': [1,2,3],\n",
    "        'Name': ['Colgate', 'Harpic','Rin'],\n",
    "        \"description\":['no','no','no'],\n",
    "        \"price\":[10,10,10]\n",
    "       }    \n",
    "df = pd.DataFrame(data)    \n",
    "df.to_csv(\"data.csv\") \n",
    "\n",
    "########################################################################################################\n",
    "\n",
    "df = pd.read_csv('data.csv')\n",
    "df1 = pd.DataFrame(columns=['no','Name','description','price','unit','total_price'])\n",
    "def findProductDetails(index,df1,df):\n",
    "   index=index-1\n",
    "   if index in df1['no']:\n",
    "    data=df.loc[index]  \n",
    "    data1=df1.loc[index]  \n",
    "    df1.at[index,'total_price']=int(data[4])+int(data1[5])\n",
    "    df1.at[index,'unit']=int(data1[4])+1\n",
    "    return df1\n",
    "   else:\n",
    "    data=df.loc[index]   \n",
    "    temp={\"no\":data[1],\"Name\":data[2],\"description\":data[3],\"price\":data[4],\"unit\":1,\"total_price\":data[4]}\n",
    "    df1=df1.append(temp,ignore_index=True)\n",
    "    return df1"
   ]
  },
  {
   "cell_type": "code",
   "execution_count": null,
   "metadata": {},
   "outputs": [],
   "source": [
    "color_dict_HSV = {'black': [[180, 255, 30], [0, 0, 0]],\n",
    "              'white': [[180, 18, 255], [0, 0, 231]],\n",
    "              'red1': [[180, 255, 255], [159, 50, 70]],\n",
    "              'red2': [[9, 255, 255], [0, 50, 70]],\n",
    "              'green': [[89, 255, 255], [36, 50, 70]],\n",
    "              'blue': [[128, 255, 255], [90, 50, 70]],\n",
    "              'yellow': [[35, 255, 255], [25, 50, 70]],\n",
    "              'purple': [[158, 255, 255], [129, 50, 70]],\n",
    "              'orange': [[24, 255, 255], [10, 50, 70]],\n",
    "              'gray': [[180, 18, 230], [0, 0, 40]]}"
   ]
  },
  {
   "cell_type": "code",
   "execution_count": 32,
   "metadata": {},
   "outputs": [],
   "source": [
    "def most_frequent(List):\n",
    "    counter = 0\n",
    "    num = List[0]\n",
    "     \n",
    "    for i in List:\n",
    "        curr_frequency = List.count(i)\n",
    "        if(curr_frequency> counter):\n",
    "            counter = curr_frequency\n",
    "            num = i\n",
    "    return num\n",
    " "
   ]
  },
  {
   "cell_type": "code",
   "execution_count": null,
   "metadata": {},
   "outputs": [],
   "source": [
    "import os\n",
    "from os import listdir\n",
    "from os.path import isfile, join\n",
    "while True:\n",
    "    result=[]\n",
    "    path=\"Images/\"\n",
    "    images = [f for f in listdir(path) if isfile(join(path, f))]\n",
    "    if images and len(images)>10:\n",
    "        for i in images[0:10]:\n",
    "            preds=check(path+i)\n",
    "            result.append(max(preds[0]))\n",
    "            os.remove(path+i)\n",
    "        print(most_frequent(result))   \n",
    "        images = [f for f in listdir(path) if isfile(join(path, f))]\n",
    "        for i in images:\n",
    "            os.remove(path+i)\n",
    "        \n"
   ]
  },
  {
   "cell_type": "code",
   "execution_count": null,
   "metadata": {},
   "outputs": [],
   "source": []
  },
  {
   "cell_type": "code",
   "execution_count": 21,
   "metadata": {},
   "outputs": [
    {
     "name": "stdout",
     "output_type": "stream",
     "text": [
      "3\n"
     ]
    },
    {
     "data": {
      "text/plain": [
       "True"
      ]
     },
     "execution_count": 21,
     "metadata": {},
     "output_type": "execute_result"
    }
   ],
   "source": [
    "import cv2\n",
    "\n",
    "## Read\n",
    "img = cv2.imread(\"rin_test/Images33.png\")\n",
    "\n",
    "## convert to hsv\n",
    "hsv = cv2.cvtColor(img, cv2.COLOR_BGR2HSV)\n",
    "\n",
    "## mask of green (36,0,0) ~ (70, 255,255)\n",
    "mask1 = cv2.inRange(hsv, (90, 50, 70), (128, 255, 255))\n",
    "\n",
    "\n",
    "mask2 = cv2.inRange(hsv, (90, 50, 70), (128, 255, 255))\n",
    "\n",
    "## final mask and masked\n",
    "mask = cv2.bitwise_or(mask1, mask2)\n",
    "target = cv2.bitwise_and(img,img, mask=mask)\n",
    "out_tpl = np.nonzero(target)\n",
    "print(len(out_tpl))\n",
    "cv2.imwrite(\"target.png\", target)"
   ]
  },
  {
   "cell_type": "code",
   "execution_count": 14,
   "metadata": {},
   "outputs": [],
   "source": [
    "color_dict_HSV = {'black': [[180, 255, 30], [0, 0, 0]],\n",
    "              'white': [[180, 18, 255], [0, 0, 231]],\n",
    "              'red1': [[180, 255, 255], [159, 50, 70]],\n",
    "              'red2': [[9, 255, 255], [0, 50, 70]],\n",
    "              'green': [[89, 255, 255], [36, 50, 70]],\n",
    "              'blue': [[128, 255, 255], [90, 50, 70]],\n",
    "              'yellow': [[35, 255, 255], [25, 50, 70]],\n",
    "              'purple': [[158, 255, 255], [129, 50, 70]],\n",
    "              'orange': [[24, 255, 255], [10, 50, 70]],\n",
    "              'gray': [[180, 18, 230], [0, 0, 40]]}"
   ]
  },
  {
   "cell_type": "code",
   "execution_count": null,
   "metadata": {},
   "outputs": [],
   "source": []
  },
  {
   "cell_type": "code",
   "execution_count": null,
   "metadata": {},
   "outputs": [],
   "source": []
  },
  {
   "cell_type": "code",
   "execution_count": null,
   "metadata": {},
   "outputs": [],
   "source": []
  }
 ],
 "metadata": {
  "kernelspec": {
   "display_name": "Python 3",
   "language": "python",
   "name": "python3"
  }
 },
 "nbformat": 4,
 "nbformat_minor": 4
}

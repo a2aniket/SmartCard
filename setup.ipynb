{
 "cells": [
  {
   "cell_type": "code",
   "execution_count": 158,
   "metadata": {},
   "outputs": [],
   "source": [
    "import pandas as pd    \n",
    "data = {'No': [1,2,3],\n",
    "        'Name': ['Colgate', 'Harpic','Rin'],\n",
    "        \"description\":['no','no','no'],\n",
    "        \"price\":[10,10,10]\n",
    "       }    \n",
    "df = pd.DataFrame(data)    \n",
    "df.to_csv(\"data.csv\") "
   ]
  },
  {
   "cell_type": "code",
   "execution_count": 204,
   "metadata": {},
   "outputs": [],
   "source": [
    "df = pd.read_csv('data.csv')\n",
    "df1 = pd.DataFrame(columns=['no','Name','description','price','unit','total_price'])\n",
    "def findProductDetails(index,df1,df):\n",
    "   index=index-1\n",
    "   if index in df1['no']:\n",
    "    data=df.loc[index]  \n",
    "    data1=df1.loc[index]  \n",
    "    df1.at[index,'total_price']=int(data[4])+int(data1[5])\n",
    "    df1.at[index,'unit']=int(data1[4])+1\n",
    "    return df1\n",
    "   else:\n",
    "    data=df.loc[index]   \n",
    "    temp={\"no\":data[1],\"Name\":data[2],\"description\":data[3],\"price\":data[4],\"unit\":1,\"total_price\":data[4]}\n",
    "    df1=df1.append(temp,ignore_index=True)\n",
    "    return df1"
   ]
  },
  {
   "cell_type": "code",
   "execution_count": 253,
   "metadata": {},
   "outputs": [],
   "source": [
    "df1=findProductDetails(2,df1,df)"
   ]
  },
  {
   "cell_type": "code",
   "execution_count": 254,
   "metadata": {},
   "outputs": [],
   "source": [
    "df1.to_csv(\"bill.csv\")"
   ]
  },
  {
   "cell_type": "code",
   "execution_count": 255,
   "metadata": {},
   "outputs": [
    {
     "data": {
      "text/html": [
       "<div>\n",
       "<style scoped>\n",
       "    .dataframe tbody tr th:only-of-type {\n",
       "        vertical-align: middle;\n",
       "    }\n",
       "\n",
       "    .dataframe tbody tr th {\n",
       "        vertical-align: top;\n",
       "    }\n",
       "\n",
       "    .dataframe thead th {\n",
       "        text-align: right;\n",
       "    }\n",
       "</style>\n",
       "<table border=\"1\" class=\"dataframe\">\n",
       "  <thead>\n",
       "    <tr style=\"text-align: right;\">\n",
       "      <th></th>\n",
       "      <th>no</th>\n",
       "      <th>Name</th>\n",
       "      <th>description</th>\n",
       "      <th>price</th>\n",
       "      <th>unit</th>\n",
       "      <th>total_price</th>\n",
       "    </tr>\n",
       "  </thead>\n",
       "  <tbody>\n",
       "    <tr>\n",
       "      <th>0</th>\n",
       "      <td>1</td>\n",
       "      <td>Colgate</td>\n",
       "      <td>no</td>\n",
       "      <td>10</td>\n",
       "      <td>8</td>\n",
       "      <td>80</td>\n",
       "    </tr>\n",
       "    <tr>\n",
       "      <th>1</th>\n",
       "      <td>2</td>\n",
       "      <td>Harpic</td>\n",
       "      <td>no</td>\n",
       "      <td>10</td>\n",
       "      <td>7</td>\n",
       "      <td>70</td>\n",
       "    </tr>\n",
       "    <tr>\n",
       "      <th>2</th>\n",
       "      <td>3</td>\n",
       "      <td>Rin</td>\n",
       "      <td>no</td>\n",
       "      <td>10</td>\n",
       "      <td>5</td>\n",
       "      <td>50</td>\n",
       "    </tr>\n",
       "  </tbody>\n",
       "</table>\n",
       "</div>"
      ],
      "text/plain": [
       "  no     Name description price unit total_price\n",
       "0  1  Colgate          no    10    8          80\n",
       "1  2   Harpic          no    10    7          70\n",
       "2  3      Rin          no    10    5          50"
      ]
     },
     "execution_count": 255,
     "metadata": {},
     "output_type": "execute_result"
    }
   ],
   "source": [
    "df1"
   ]
  },
  {
   "cell_type": "code",
   "execution_count": 246,
   "metadata": {},
   "outputs": [
    {
     "data": {
      "text/plain": [
       "170"
      ]
     },
     "execution_count": 246,
     "metadata": {},
     "output_type": "execute_result"
    }
   ],
   "source": []
  },
  {
   "cell_type": "code",
   "execution_count": null,
   "metadata": {},
   "outputs": [],
   "source": []
  }
 ],
 "metadata": {
  "kernelspec": {
   "display_name": "Python 3",
   "language": "python",
   "name": "python3"
  },
  "language_info": {
   "codemirror_mode": {
    "name": "ipython",
    "version": 3
   },
   "file_extension": ".py",
   "mimetype": "text/x-python",
   "name": "python",
   "nbconvert_exporter": "python",
   "pygments_lexer": "ipython3",
   "version": "3.7.6"
  }
 },
 "nbformat": 4,
 "nbformat_minor": 4
}

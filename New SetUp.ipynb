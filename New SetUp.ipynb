{
 "cells": [
  {
   "cell_type": "code",
   "execution_count": 11,
   "metadata": {},
   "outputs": [],
   "source": [
    "data = {'No': [1,2,3,4],\n",
    "        'Name': ['Rin','Colgate','Wheel', 'Santoor',],\n",
    "        \"description\":['no','no','no','no'],\n",
    "        \"price\":[10,20,10,45]\n",
    "       }  "
   ]
  },
  {
   "cell_type": "code",
   "execution_count": 33,
   "metadata": {},
   "outputs": [
    {
     "data": {
      "text/plain": [
       "'Rin'"
      ]
     },
     "execution_count": 33,
     "metadata": {},
     "output_type": "execute_result"
    }
   ],
   "source": [
    "list1=data['No']\n",
    "index=list1.index(1)\n",
    "productName=data['Name'][index]\n",
    "productName"
   ]
  },
  {
   "cell_type": "code",
   "execution_count": 131,
   "metadata": {},
   "outputs": [],
   "source": [
    "bill={\n",
    "}\n",
    "def add(index):\n",
    "    list1=data['No']\n",
    "    index=list1.index(index)\n",
    "    key=data['Name'][index]\n",
    "    if data['Name'][index] not in bill:\n",
    "        bill[key]={'name':key,'description':data['description'][index],'price':data['price'][index],'unit':1,'totalPrice':data['price'][index]}\n",
    "    else:\n",
    "        unit=bill[key]['unit']\n",
    "        total_price=bill[key]['totalPrice']\n",
    "        bill[key]={'name':key,'description':data['description'][index],'price':data['price'][index],'unit':unit+1,'totalPrice':total_price+data['price'][index]}\n",
    "    with open('bill.pkl', 'wb') as handle:\n",
    "        pickle.dump(bill, handle, protocol=pickle.HIGHEST_PROTOCOL)"
   ]
  },
  {
   "cell_type": "code",
   "execution_count": 134,
   "metadata": {},
   "outputs": [
    {
     "name": "stdout",
     "output_type": "stream",
     "text": [
      "{'Santoor': {'name': 'Santoor', 'description': 'no', 'price': 45, 'unit': 2, 'totalPrice': 90}, 'Rin': {'name': 'Rin', 'description': 'no', 'price': 10, 'unit': 1, 'totalPrice': 10}}\n"
     ]
    }
   ],
   "source": [
    "add(1)\n",
    "print(bill)"
   ]
  },
  {
   "cell_type": "code",
   "execution_count": null,
   "metadata": {},
   "outputs": [],
   "source": []
  },
  {
   "cell_type": "code",
   "execution_count": null,
   "metadata": {},
   "outputs": [],
   "source": []
  },
  {
   "cell_type": "code",
   "execution_count": null,
   "metadata": {},
   "outputs": [],
   "source": []
  },
  {
   "cell_type": "code",
   "execution_count": null,
   "metadata": {},
   "outputs": [],
   "source": []
  },
  {
   "cell_type": "code",
   "execution_count": null,
   "metadata": {},
   "outputs": [],
   "source": []
  },
  {
   "cell_type": "code",
   "execution_count": null,
   "metadata": {},
   "outputs": [],
   "source": []
  }
 ],
 "metadata": {
  "kernelspec": {
   "display_name": "Python 3",
   "language": "python",
   "name": "python3"
  },
  "language_info": {
   "codemirror_mode": {
    "name": "ipython",
    "version": 3
   },
   "file_extension": ".py",
   "mimetype": "text/x-python",
   "name": "python",
   "nbconvert_exporter": "python",
   "pygments_lexer": "ipython3",
   "version": "3.7.6"
  }
 },
 "nbformat": 4,
 "nbformat_minor": 4
}
